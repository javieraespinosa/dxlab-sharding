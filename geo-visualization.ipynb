{
 "cells": [
  {
   "cell_type": "markdown",
   "metadata": {},
   "source": [
    "# Visualizing Spatial Data "
   ]
  },
  {
   "cell_type": "markdown",
   "metadata": {},
   "source": [
    "#### Imports"
   ]
  },
  {
   "cell_type": "code",
   "execution_count": null,
   "metadata": {},
   "outputs": [],
   "source": [
    "import pymongo\n",
    "import plotly as plotly\n",
    "from plotly.graph_objs import *"
   ]
  },
  {
   "cell_type": "markdown",
   "metadata": {},
   "source": [
    "#### Connect to Shards"
   ]
  },
  {
   "cell_type": "code",
   "execution_count": null,
   "metadata": {},
   "outputs": [],
   "source": [
    "db  = 'mydb'\n",
    "col = 'cities3'\n",
    "\n",
    "shard1 = pymongo.MongoClient(host=\"shard1.docker\")[db][col].find()\n",
    "shard2 = pymongo.MongoClient(host=\"shard2.docker\")[db][col].find()\n",
    "shard3 = pymongo.MongoClient(host=\"shard3.docker\")[db][col].find()"
   ]
  },
  {
   "cell_type": "markdown",
   "metadata": {},
   "source": [
    "#### Helper functions"
   ]
  },
  {
   "cell_type": "code",
   "execution_count": null,
   "metadata": {},
   "outputs": [],
   "source": [
    "def get_data(shard):\n",
    "    lons = []\n",
    "    lats = []\n",
    "    text = []    \n",
    "    \n",
    "    for city in shard:\n",
    "        lons.append( city['loc'][0] )\n",
    "        lats.append( city['loc'][1] )\n",
    "        text.append( city['city'] )\n",
    "\n",
    "    data = [dict(\n",
    "            type = 'scattergeo',\n",
    "            locationmode = 'USA-states',\n",
    "            lon = lons,\n",
    "            lat = lats,\n",
    "            text = text,\n",
    "            mode = 'markers',\n",
    "            marker = dict( size = 1 )\n",
    "    )]    \n",
    "    \n",
    "    return data\n",
    "\n",
    "def set_title(title):\n",
    "    return dict(\n",
    "        title = title,\n",
    "        geo = dict(\n",
    "            scope='usa',\n",
    "            projection= dict( type='albers usa' )\n",
    "        )\n",
    "    )"
   ]
  },
  {
   "cell_type": "markdown",
   "metadata": {},
   "source": [
    "#### Visualizing Shards Content"
   ]
  },
  {
   "cell_type": "code",
   "execution_count": null,
   "metadata": {},
   "outputs": [],
   "source": [
    "plotly.offline.init_notebook_mode()\n",
    "\n",
    "f1 = dict( data=get_data(shard1), layout=set_title('Shard1: CA') )\n",
    "f2 = dict( data=get_data(shard2), layout=set_title('Shard2: NY') )\n",
    "f3 = dict( data=get_data(shard3), layout=set_title('Shard3: Others') )\n",
    "\n",
    "plotly.offline.iplot( f1 )\n",
    "plotly.offline.iplot( f2 )\n",
    "plotly.offline.iplot( f3 )"
   ]
  },
  {
   "cell_type": "code",
   "execution_count": null,
   "metadata": {},
   "outputs": [],
   "source": []
  }
 ],
 "metadata": {
  "kernelspec": {
   "display_name": "Python 3",
   "language": "python",
   "name": "python3"
  },
  "language_info": {
   "codemirror_mode": {
    "name": "ipython",
    "version": 3
   },
   "file_extension": ".py",
   "mimetype": "text/x-python",
   "name": "python",
   "nbconvert_exporter": "python",
   "pygments_lexer": "ipython3",
   "version": "3.6.2"
  }
 },
 "nbformat": 4,
 "nbformat_minor": 1
}
